{
 "cells": [
  {
   "cell_type": "markdown",
   "metadata": {},
   "source": [
    "## Serverless Computing\n",
    "\n",
    "### Helps us to build and run applications without thinking about servers\n",
    "\n",
    "It's not easy to setup a server by yourself. We need a backend engineer who can understand everything about what can happen on servers and what can go wrong such setting databases to make sure that downtime is not going to affect anyone when one is upgrading. In our case when we talk about serverless computing we mean that the server is encapsulated from the user which means that as a user we will not have to worry about managing servers since it is abstracted from us.\n",
    "\n",
    "Serverless Framework - We can think of it like a package or software which allows us to deal with many serverless cloud providers.\n",
    "\n",
    "It eliminates(hides) infrastructure management tasks such as :\n",
    "\n",
    "1. Server or cluster provisioning - Initially we had very less users but after a certain point of time, we got a lot of users and later the number again goes down. So in this case, we want it to scale up and down automatically. This is done automatically with the help of server or cluster provisioning.\n",
    "\n",
    "2. Operating System maintenance - A change is operating system should not affect the application and it should be valid for all the servers on which the app is hosted.\n",
    "\n",
    "3. Capacity Provisioning - Capacity of servers is managed by the company. We are sometimes not sure of how many resources one may or may not require. \n",
    "\n",
    "4. Downtime - If a server goes down, it goes down but since we are going to use AWS lambda, there will be millions of lambda i.e. millions of servers ready. If a server fails, there are so many other servers which are ready as a backup. There is little to no downtime and we don't have to manage that.\n",
    "\n",
    "The unit of execution on serverless computing/cloud provider is often a function : FaaS (Function as a Service).\n",
    "\n",
    "Service Provider is going to provide function as a service. This means that one can run a particular function over a server. A function may be an application as well. Generally, when one runs the sessions on google colab pro, aws sagemaker or other platforms, they are charged for the resources such as CPU and GPU and particular kind of RAM. Here, we are charged for a function which means that it is only going to charge us for that particular function and that particular function using resources, when the particular function is going to be used we are going to be charged otherwise we are not going to be charged. So if someone is not going to visit my website or app, then in that case, I don't need to be charged. We are going to be charged for a particular function running on the system.\n",
    "\n",
    "SaaS - Software as a service. It is a business feature where we set up a company where we provide a software as a service such as google enterprise account. "
   ]
  },
  {
   "cell_type": "markdown",
   "metadata": {},
   "source": [
    "## AWS Lambda\n",
    "\n",
    "It let's us run code without provisioning or managing servers. We only pay for the compute time we consume which means that  there is no charge when the code is not running. \n",
    "\n",
    "**Amazon S3** - In layman terms , it can be imagined like a google cloud which is going to store some data. Essentially it is simple storage.\n",
    "\n",
    "Since AWS Lambda runs on Amazon linux OS and as we do not have the access to this particular OS, we need to run our application in such a way that there is no compatibility issue and this is why we precisely need docker. We are going to use docker as a container. It runs on amazon linux which we don't have and we have to somehow figure out that when we are testing our application on our end and when we are going to deploy that application on AWS lambda, it should not create any error. We will place all the requirements in a docker which means that everything in terms of your requirements are taken care in that particular container and when we move the container, the container moves the requirements. \n",
    "\n",
    "The package which we can upload to lambda can only be 250 mb but when it expands we can essentially have 500 mb of storage and this is something which we will leverage. We can upload something to lambda and ask lambda to download something from S3 and that can be our model and so we don't need to ship our model we can just store our model in S3 and from wherever it's required it's going to download the model and load it and finally run the application.\n",
    "\n",
    "Lambda layers: A layer can actually be a full package like pytorch which can be stored as an installation on our lambda and we can use it as a layer. We can create a lambda layer where PyTorch is already there and whenever we write any application, we can just refer to that layer and it will work seamelessly for us. \n",
    "\n",
    "![aws lambda](https://i.imgur.com/fHcUXTC.jpg)"
   ]
  },
  {
   "cell_type": "markdown",
   "metadata": {},
   "source": [
    "### Serverless Framework\n",
    "\n",
    "Serverless framework is a free and open source web framework written using Node.js. Our server and storage area should be in the same area. \n",
    "\n",
    "Serverless Framework are going to handle all the backend configurations. A serverless app can simply be a couple of lambda functions to accomplish some tasks or an entire back-end composed of hundreds of lambda functions. \n",
    "\n",
    "carbon.now.sh -> A website which allows us create good images of source code. This can be used in blogs\n",
    "\n",
    "Amazon API Gateway -> Continuously monitors website for post and get requests. \n",
    "\n",
    "![overall process](https://i.imgur.com/ELPAgS1.jpg)"
   ]
  },
  {
   "cell_type": "markdown",
   "metadata": {},
   "source": [
    "### Short Quiz and it's Solutions\n",
    "\n",
    "![l1](https://i.imgur.com/NUqTA1n.jpg)\n",
    "\n",
    "![s3](https://i.imgur.com/mwDeLwD.jpg)\n",
    "\n",
    "**Note** : We can store our trained models in lambda as well but there is an issue which is the storage space in lambda is limited and hence storing the complete package along with trained model is going to be difficult due to space constraints."
   ]
  },
  {
   "cell_type": "markdown",
   "metadata": {},
   "source": [
    "### Docker\n",
    "\n",
    "Docker is a tool for creating, deploying and running applications inside containers. \n",
    "\n",
    "Containers are standardized software units that contain code, dependencies, runtimes and settings in a single package. \n",
    "\n",
    "Containers store applications by keeping them isolated from the environment they run on.\n",
    "\n",
    "They are portable and they ensure that application works uniformly on different computing environments.\n",
    "\n",
    "Container images become containers when they run on Docker Engine.\n",
    "\n",
    "Containers also virtualize the OS components instead of hardware whereas VMs abstract physical hardware.\n",
    "\n",
    "Each container is an isolated process which means when there are 2 containers running, they are separate and they cannot talk to each other but multiple containers can share the same OS kernel with others, whereas each VM includes a full copy of an OS, apps, and libs. \n",
    "\n",
    "On one machine we can have multiple containers i.e. on one operating system we can have multiple containers . We can have many virtual machines on one hardware also but each virtual machine will have it's own Operating System also. Containers do not have their Operating system they only have the most important part of OS. \n",
    "\n",
    "Containers usually take up less space(in tens of MBs) since it does not have to take care of the complete OS only the small part which is required . Containers will also require fewer resources as well since OS is not running now the main hardware is going to run OS for us and container is going to sit on top of that. VMs can take up tens of GBs and can be slower.\n",
    "\n",
    "Hypervisor - It virtualizes the hardware. Hypervisor abstracts the hardware and allows us to use all the resources of a lot of devices clubbed together and it has the capability to showcase them as one single unit. For example - We do not have a cpu of 400 cores available but if we need that much capability for an application, we can use a lot of cpus and on top of all of those cpus we can have a hypervisor which will make it look like there is one cpu with 400 cores but in reality there are a lot of cpus since there is no such cpu with 400 cores till date. However one thing is to be remembered that all of this happens in real time and we cannot then change the cores since then the number get's fixed."
   ]
  },
  {
   "cell_type": "markdown",
   "metadata": {},
   "source": [
    "### Docker in the context of Serverless Framework\n",
    "\n",
    "Framework plugins can use docker when installing python requirements using pip. The version of the software which we have installed and uploaded on the container, once the app is uploaded on AWS, that same version will be used by AWS. \n",
    "\n",
    "Used docker container is similar to the lambda environment so the compiled dependencies will be compatible. This means that the container provided by the lambda and the container we are going to make our application in are very similar to each other. Whatever we are going to be doing in the container there on our computer, after the application is pushed on AWS same version of all the softwares AWS is going to use.\n",
    "\n",
    "Dependencies will be installed using containers and then zipped to the lambda deployment package."
   ]
  },
  {
   "cell_type": "markdown",
   "metadata": {},
   "source": [
    "## Quiz 2 and it's solutions\n",
    "\n",
    "![q1](https://i.imgur.com/AagTqMO.jpg)\n",
    "\n",
    "### We can use AWS lambda without docker but it will complicate things and make it difficult. Option 2 and 3 both are correct!\n",
    "\n",
    "![q2](https://i.imgur.com/bFTktM0.jpg)\n",
    "\n",
    "### Option 1 and 4 are correct!\n",
    "\n",
    "![q6](https://i.imgur.com/AlmdGRq.jpg)\n",
    "\n",
    "### We can use lambda without S3 as well but S3 is extending the storage capacity of lambda. It is like a hard drive. \n",
    "\n",
    "![q3](https://i.imgur.com/LVPwnT0.jpg)\n",
    "\n",
    "![q4](https://i.imgur.com/glUcUq2.jpg)\n",
    "\n",
    "![q5](https://i.imgur.com/Dg0CJi5.jpg)\n",
    "\n",
    "![q7](https://i.imgur.com/xMJ8aC3.jpg)\n",
    "\n",
    "### Model is going to run on lambda only, S3 is just storage and API gateway is going to tell lambda to now start. "
   ]
  },
  {
   "cell_type": "markdown",
   "metadata": {},
   "source": [
    "## For Rest of the steps kindly look at the gifs and sir's video lecture since they can only be explained best by Sir!"
   ]
  }
 ],
 "metadata": {
  "kernelspec": {
   "display_name": "Python 3",
   "language": "python",
   "name": "python3"
  },
  "language_info": {
   "codemirror_mode": {
    "name": "ipython",
    "version": 3
   },
   "file_extension": ".py",
   "mimetype": "text/x-python",
   "name": "python",
   "nbconvert_exporter": "python",
   "pygments_lexer": "ipython3",
   "version": "3.7.4"
  }
 },
 "nbformat": 4,
 "nbformat_minor": 2
}
